{
 "cells": [
  {
   "cell_type": "code",
   "execution_count": 1,
   "id": "24670833-e8e5-4a23-bfb3-c17df52df0c2",
   "metadata": {
    "tags": []
   },
   "outputs": [],
   "source": [
    "import time\n",
    "from selenium import webdriver\n",
    "from selenium_stealth import stealth\n",
    "from selenium.webdriver.chrome.service import Service\n",
    "from webdriver_manager.chrome import ChromeDriverManager\n",
    "from tqdm import tqdm\n",
    "# версия chroma 114"
   ]
  },
  {
   "cell_type": "code",
   "execution_count": 2,
   "id": "b76725f5-4065-4ddf-be0c-670bd0ea5e16",
   "metadata": {},
   "outputs": [],
   "source": [
    "import os\n",
    "wd = os.getcwd()\n",
    "wd = wd[:-wd[::-1].find(\"\\\\\")]\n",
    "wd_data = \"data\\\\\""
   ]
  },
  {
   "cell_type": "code",
   "execution_count": 3,
   "id": "9e68be48-b64e-49a0-8693-ba8bfb3b6a50",
   "metadata": {},
   "outputs": [],
   "source": [
    "import sys\n",
    "sys.path.append(wd + 'scripts')\n",
    "sys.path.append(wd + 'dashboard')"
   ]
  },
  {
   "cell_type": "code",
   "execution_count": 7,
   "id": "8c3b4e50-2aa4-49ce-9da0-d55ab6a756eb",
   "metadata": {},
   "outputs": [],
   "source": [
    "from Paesers import ozon, yand, wb, to_num"
   ]
  },
  {
   "cell_type": "code",
   "execution_count": 9,
   "id": "da6c0e31-53a1-4bed-a729-4b535d816e44",
   "metadata": {},
   "outputs": [],
   "source": [
    "from bs4 import BeautifulSoup\n",
    "from selenium.webdriver.common.by import By\n",
    "from selenium.webdriver.common.keys import Keys\n",
    "from selenium.webdriver.common.action_chains import ActionChains\n",
    "import pandas as pd"
   ]
  },
  {
   "cell_type": "code",
   "execution_count": 11,
   "id": "620b5062-a969-4da1-b6ff-5f715789b94d",
   "metadata": {},
   "outputs": [],
   "source": [
    "#Сбор данных"
   ]
  },
  {
   "cell_type": "code",
   "execution_count": 13,
   "id": "b276fa05-f203-4f4b-812f-36ba4272d9e3",
   "metadata": {},
   "outputs": [],
   "source": [
    "def create_web_driver_stealth() -> webdriver.Chrome:\n",
    "    options = webdriver.ChromeOptions()\n",
    "    options.add_argument(\"start-maximized\")\n",
    "    #options.add_argument(\"--headless\")\n",
    "    options.add_experimental_option(\"excludeSwitches\", [\"enable-automation\"])\n",
    "    options.add_experimental_option('useAutomationExtension', False)\n",
    "\n",
    "    s = Service(ChromeDriverManager().install())\n",
    "    stealth_driver = webdriver.Chrome(service=s, options=options)\n",
    "\n",
    "    stealth(stealth_driver,\n",
    "            languages=[\"en-US\", \"en\"],\n",
    "            vendor=\"Google Inc.\",\n",
    "            platform=\"Win32\",\n",
    "            webgl_vendor=\"Intel Inc.\",\n",
    "            renderer=\"Intel Iris OpenGL Engine\",\n",
    "            fix_hairline=True,\n",
    "            )\n",
    "\n",
    "    return stealth_driver"
   ]
  },
  {
   "cell_type": "code",
   "execution_count": 15,
   "id": "cc4b3a42-99e6-4cad-84de-f00587087741",
   "metadata": {},
   "outputs": [
    {
     "name": "stdout",
     "output_type": "stream",
     "text": [
      "https://www.ozon.ru\n"
     ]
    },
    {
     "name": "stderr",
     "output_type": "stream",
     "text": [
      "100%|██████████| 5/5 [00:30<00:00,  6.02s/it]\n"
     ]
    },
    {
     "name": "stdout",
     "output_type": "stream",
     "text": [
      "https://market.yandex.ru\n"
     ]
    },
    {
     "name": "stderr",
     "output_type": "stream",
     "text": [
      "100%|██████████| 5/5 [00:42<00:00,  8.58s/it]\n"
     ]
    },
    {
     "name": "stdout",
     "output_type": "stream",
     "text": [
      "https://www.wildberries.ru\n"
     ]
    },
    {
     "name": "stderr",
     "output_type": "stream",
     "text": [
      "100%|██████████| 5/5 [00:31<00:00,  6.39s/it]"
     ]
    },
    {
     "name": "stdout",
     "output_type": "stream",
     "text": [
      "Downloaded 3 sites in 114.2587222000002 seconds\n"
     ]
    },
    {
     "name": "stderr",
     "output_type": "stream",
     "text": [
      "\n"
     ]
    }
   ],
   "source": [
    "sites = [\"https://www.ozon.ru\",  \"https://market.yandex.ru\", \"https://www.wildberries.ru\"]\n",
    "list_request = [\"Кружка\", \"Термопаста\", \"Mars\", \"Носки\", \"Куртка\"]\n",
    "\n",
    "df = pd.DataFrame({'title': [], 'price': [],'rating': [],'reviews':[],'market': [],'link': [],'req': []})\n",
    "\n",
    "start_time = time.perf_counter()  # про time.perf_counter https://superfastpython.com/time-time-vs-time-perf_counter/\n",
    "driver = create_web_driver_stealth()\n",
    "\n",
    "for url in sites: \n",
    "    driver.get(url)\n",
    "    time.sleep(1)\n",
    "    if url == \"https://market.yandex.ru/\":\n",
    "        time.sleep(4)\n",
    "        actions = ActionChains(driver)\n",
    "        actions.move_by_offset(10, 10).click().perform()\n",
    "    print(url)\n",
    "    for req in tqdm(list_request):\n",
    "        if url == \"https://market.yandex.ru\":\n",
    "            df = yand(req, driver, df)\n",
    "        elif url == \"https://www.ozon.ru\":\n",
    "            df = ozon(req, driver, df)\n",
    "        elif url == \"https://www.wildberries.ru\":\n",
    "            df = wb(req, driver, df)\n",
    "    \n",
    "duration = time.perf_counter() - start_time\n",
    "    \n",
    "print(f\"Downloaded {len(sites)} sites in {duration} seconds\")"
   ]
  },
  {
   "cell_type": "code",
   "execution_count": 17,
   "id": "11ca7a9c-fa89-40a2-8fc4-514fe5e49e69",
   "metadata": {},
   "outputs": [],
   "source": [
    "# Сохраним данные"
   ]
  },
  {
   "cell_type": "code",
   "execution_count": 19,
   "id": "93635b42-4817-4748-8a14-4f9400d604bc",
   "metadata": {},
   "outputs": [],
   "source": [
    "#df.to_csv(wd + wd_data +'dataset_marketplaces_2.csv')"
   ]
  },
  {
   "cell_type": "code",
   "execution_count": 21,
   "id": "b3538e4e-239d-42fd-8bc8-aacbe8abd326",
   "metadata": {},
   "outputs": [],
   "source": [
    "#Загрузка данных"
   ]
  },
  {
   "cell_type": "code",
   "execution_count": 11,
   "id": "ab36a726-0bb0-47b2-88b9-1465b50c0793",
   "metadata": {},
   "outputs": [],
   "source": [
    "df = pd.read_csv(wd + wd_data +'dataset_marketplaces_2.csv').drop(\"Unnamed: 0\", axis = 1)"
   ]
  },
  {
   "cell_type": "code",
   "execution_count": 13,
   "id": "9145ba39-23d4-4be5-9f22-b789ad9beab0",
   "metadata": {},
   "outputs": [
    {
     "data": {
      "text/html": [
       "<div>\n",
       "<style scoped>\n",
       "    .dataframe tbody tr th:only-of-type {\n",
       "        vertical-align: middle;\n",
       "    }\n",
       "\n",
       "    .dataframe tbody tr th {\n",
       "        vertical-align: top;\n",
       "    }\n",
       "\n",
       "    .dataframe thead th {\n",
       "        text-align: right;\n",
       "    }\n",
       "</style>\n",
       "<table border=\"1\" class=\"dataframe\">\n",
       "  <thead>\n",
       "    <tr style=\"text-align: right;\">\n",
       "      <th></th>\n",
       "      <th>title</th>\n",
       "      <th>price</th>\n",
       "      <th>rating</th>\n",
       "      <th>reviews</th>\n",
       "      <th>market</th>\n",
       "      <th>link</th>\n",
       "      <th>req</th>\n",
       "    </tr>\n",
       "  </thead>\n",
       "  <tbody>\n",
       "    <tr>\n",
       "      <th>0</th>\n",
       "      <td>Кружка для чая и кофе Montserrat с крышкой, 38...</td>\n",
       "      <td>603 ₽</td>\n",
       "      <td>4.6</td>\n",
       "      <td>393</td>\n",
       "      <td>ozon</td>\n",
       "      <td>https://www.ozon.ru/product/kruzhka-dlya-chaya...</td>\n",
       "      <td>Кружка</td>\n",
       "    </tr>\n",
       "    <tr>\n",
       "      <th>1</th>\n",
       "      <td>Кружка \"Золотой дракон\", объем 350 мл, с крышк...</td>\n",
       "      <td>754 ₽</td>\n",
       "      <td>4.6</td>\n",
       "      <td>421</td>\n",
       "      <td>ozon</td>\n",
       "      <td>https://www.ozon.ru/product/kruzhka-zolotoy-dr...</td>\n",
       "      <td>Кружка</td>\n",
       "    </tr>\n",
       "    <tr>\n",
       "      <th>2</th>\n",
       "      <td>Кружка Oxilife, чайная пара, 200 мл перламутровая</td>\n",
       "      <td>558 ₽</td>\n",
       "      <td>4.9</td>\n",
       "      <td>23</td>\n",
       "      <td>ozon</td>\n",
       "      <td>https://www.ozon.ru/product/kruzhka-oxilife-ch...</td>\n",
       "      <td>Кружка</td>\n",
       "    </tr>\n",
       "    <tr>\n",
       "      <th>3</th>\n",
       "      <td>Кружка для чая и кофе на 400мл \"Morning\" на 50...</td>\n",
       "      <td>169 ₽</td>\n",
       "      <td>4.8</td>\n",
       "      <td>1869</td>\n",
       "      <td>ozon</td>\n",
       "      <td>https://www.ozon.ru/product/kruzhka-dlya-chaya...</td>\n",
       "      <td>Кружка</td>\n",
       "    </tr>\n",
       "    <tr>\n",
       "      <th>4</th>\n",
       "      <td>Кружка с принтом \"Ща раздуплюсь\"</td>\n",
       "      <td>410 ₽</td>\n",
       "      <td>5.0</td>\n",
       "      <td>4</td>\n",
       "      <td>ozon</td>\n",
       "      <td>https://www.ozon.ru/product/kruzhka-s-printom-...</td>\n",
       "      <td>Кружка</td>\n",
       "    </tr>\n",
       "    <tr>\n",
       "      <th>...</th>\n",
       "      <td>...</td>\n",
       "      <td>...</td>\n",
       "      <td>...</td>\n",
       "      <td>...</td>\n",
       "      <td>...</td>\n",
       "      <td>...</td>\n",
       "      <td>...</td>\n",
       "    </tr>\n",
       "    <tr>\n",
       "      <th>754</th>\n",
       "      <td>Куртка демисезонная с капюшоном QASO</td>\n",
       "      <td>2328</td>\n",
       "      <td>4.4</td>\n",
       "      <td>919</td>\n",
       "      <td>wb</td>\n",
       "      <td>https://www.wildberries.ru/catalog/179244724/d...</td>\n",
       "      <td>Куртка</td>\n",
       "    </tr>\n",
       "    <tr>\n",
       "      <th>755</th>\n",
       "      <td>Кожаная куртка с капюшоном зимняя пуховик ZARINA</td>\n",
       "      <td>1986</td>\n",
       "      <td>4.7</td>\n",
       "      <td>1538</td>\n",
       "      <td>wb</td>\n",
       "      <td>https://www.wildberries.ru/catalog/180093549/d...</td>\n",
       "      <td>Куртка</td>\n",
       "    </tr>\n",
       "    <tr>\n",
       "      <th>756</th>\n",
       "      <td>Куртка тедди двусторонняя демисезонная чебураш...</td>\n",
       "      <td>3266</td>\n",
       "      <td>4.2</td>\n",
       "      <td>739</td>\n",
       "      <td>wb</td>\n",
       "      <td>https://www.wildberries.ru/catalog/172131459/d...</td>\n",
       "      <td>Куртка</td>\n",
       "    </tr>\n",
       "    <tr>\n",
       "      <th>757</th>\n",
       "      <td>Куртка стеганая оверсайз удлиненная с капюшоно...</td>\n",
       "      <td>3056</td>\n",
       "      <td>4.6</td>\n",
       "      <td>2201</td>\n",
       "      <td>wb</td>\n",
       "      <td>https://www.wildberries.ru/catalog/180093522/d...</td>\n",
       "      <td>Куртка</td>\n",
       "    </tr>\n",
       "    <tr>\n",
       "      <th>758</th>\n",
       "      <td>Куртка демисезонная весенняя с капюшоном Martlet</td>\n",
       "      <td>8847</td>\n",
       "      <td>4.2</td>\n",
       "      <td>608</td>\n",
       "      <td>wb</td>\n",
       "      <td>https://www.wildberries.ru/catalog/169533621/d...</td>\n",
       "      <td>Куртка</td>\n",
       "    </tr>\n",
       "  </tbody>\n",
       "</table>\n",
       "<p>759 rows × 7 columns</p>\n",
       "</div>"
      ],
      "text/plain": [
       "                                                 title  price rating  reviews  \\\n",
       "0    Кружка для чая и кофе Montserrat с крышкой, 38...  603 ₽    4.6      393   \n",
       "1    Кружка \"Золотой дракон\", объем 350 мл, с крышк...  754 ₽    4.6      421   \n",
       "2    Кружка Oxilife, чайная пара, 200 мл перламутровая  558 ₽    4.9       23   \n",
       "3    Кружка для чая и кофе на 400мл \"Morning\" на 50...  169 ₽    4.8     1869   \n",
       "4                     Кружка с принтом \"Ща раздуплюсь\"  410 ₽    5.0        4   \n",
       "..                                                 ...    ...    ...      ...   \n",
       "754               Куртка демисезонная с капюшоном QASO   2328    4.4      919   \n",
       "755   Кожаная куртка с капюшоном зимняя пуховик ZARINA   1986    4.7     1538   \n",
       "756  Куртка тедди двусторонняя демисезонная чебураш...   3266    4.2      739   \n",
       "757  Куртка стеганая оверсайз удлиненная с капюшоно...   3056    4.6     2201   \n",
       "758   Куртка демисезонная весенняя с капюшоном Martlet   8847    4.2      608   \n",
       "\n",
       "    market                                               link     req  \n",
       "0     ozon  https://www.ozon.ru/product/kruzhka-dlya-chaya...  Кружка  \n",
       "1     ozon  https://www.ozon.ru/product/kruzhka-zolotoy-dr...  Кружка  \n",
       "2     ozon  https://www.ozon.ru/product/kruzhka-oxilife-ch...  Кружка  \n",
       "3     ozon  https://www.ozon.ru/product/kruzhka-dlya-chaya...  Кружка  \n",
       "4     ozon  https://www.ozon.ru/product/kruzhka-s-printom-...  Кружка  \n",
       "..     ...                                                ...     ...  \n",
       "754     wb  https://www.wildberries.ru/catalog/179244724/d...  Куртка  \n",
       "755     wb  https://www.wildberries.ru/catalog/180093549/d...  Куртка  \n",
       "756     wb  https://www.wildberries.ru/catalog/172131459/d...  Куртка  \n",
       "757     wb  https://www.wildberries.ru/catalog/180093522/d...  Куртка  \n",
       "758     wb  https://www.wildberries.ru/catalog/169533621/d...  Куртка  \n",
       "\n",
       "[759 rows x 7 columns]"
      ]
     },
     "execution_count": 13,
     "metadata": {},
     "output_type": "execute_result"
    }
   ],
   "source": [
    "# Посмотрим датасет\n",
    "df"
   ]
  },
  {
   "cell_type": "code",
   "execution_count": 15,
   "id": "229e1a40-8865-4c5f-8e08-c2ca5736ad8e",
   "metadata": {},
   "outputs": [
    {
     "data": {
      "text/html": [
       "<div>\n",
       "<style scoped>\n",
       "    .dataframe tbody tr th:only-of-type {\n",
       "        vertical-align: middle;\n",
       "    }\n",
       "\n",
       "    .dataframe tbody tr th {\n",
       "        vertical-align: top;\n",
       "    }\n",
       "\n",
       "    .dataframe thead th {\n",
       "        text-align: right;\n",
       "    }\n",
       "</style>\n",
       "<table border=\"1\" class=\"dataframe\">\n",
       "  <thead>\n",
       "    <tr style=\"text-align: right;\">\n",
       "      <th></th>\n",
       "      <th>title</th>\n",
       "      <th>price</th>\n",
       "      <th>rating</th>\n",
       "      <th>reviews</th>\n",
       "      <th>market</th>\n",
       "      <th>link</th>\n",
       "      <th>req</th>\n",
       "    </tr>\n",
       "  </thead>\n",
       "  <tbody>\n",
       "    <tr>\n",
       "      <th>74</th>\n",
       "      <td>термопаста1гр GD900-1 для CPU</td>\n",
       "      <td>116 ₽</td>\n",
       "      <td>Осталось 30 шт</td>\n",
       "      <td>30</td>\n",
       "      <td>ozon</td>\n",
       "      <td>https://www.ozon.ru/product/termopasta1gr-gd90...</td>\n",
       "      <td>Термопаста</td>\n",
       "    </tr>\n",
       "  </tbody>\n",
       "</table>\n",
       "</div>"
      ],
      "text/plain": [
       "                            title  price          rating  reviews market  \\\n",
       "74  термопаста1гр GD900-1 для CPU  116 ₽  Осталось 30 шт       30   ozon   \n",
       "\n",
       "                                                 link         req  \n",
       "74  https://www.ozon.ru/product/termopasta1gr-gd90...  Термопаста  "
      ]
     },
     "execution_count": 15,
     "metadata": {},
     "output_type": "execute_result"
    }
   ],
   "source": [
    "# Проверим корректность данных\n",
    "df[df['rating'].apply(lambda x: 'шт' in x)]"
   ]
  },
  {
   "cell_type": "code",
   "execution_count": 17,
   "id": "e6ea740c-e7a6-422b-924f-6ee9981414de",
   "metadata": {},
   "outputs": [],
   "source": [
    "# один товар(id 11) неправильно запарсился"
   ]
  },
  {
   "cell_type": "code",
   "execution_count": 19,
   "id": "345c44e6-7e02-4393-8fcf-7274e08b7882",
   "metadata": {},
   "outputs": [],
   "source": [
    "# Если есть шт, то данные не корректы\n",
    "df = df[df['rating'].apply(lambda x: not('шт' in x))]"
   ]
  },
  {
   "cell_type": "code",
   "execution_count": 21,
   "id": "c1bcc04e-b129-423b-a5c4-31ae0372d3b0",
   "metadata": {
    "scrolled": true
   },
   "outputs": [
    {
     "name": "stdout",
     "output_type": "stream",
     "text": [
      "title                        Термопаста Arctic MX-6 2 грамма\n",
      "price                                                  461 ₽\n",
      "rating                                                   4.6\n",
      "reviews                                                 3890\n",
      "market                                                  ozon\n",
      "link       https://www.ozon.ru/product/termopasta-arctic-...\n",
      "req                                               Термопаста\n",
      "Name: 53, dtype: object\n"
     ]
    },
    {
     "data": {
      "text/plain": [
       "'https://www.ozon.ru/product/termopasta-arctic-mx-6-2-gramma-836360511/?at=J8tg9NLRwT5EAP9jU6qWkNoiX9QD56H5jnMRjfXWvrE4'"
      ]
     },
     "execution_count": 21,
     "metadata": {},
     "output_type": "execute_result"
    }
   ],
   "source": [
    "# Достанем ссылку и проверим соответствие данных товара\n",
    "print(df.loc[53])\n",
    "df.loc[53][\"link\"]"
   ]
  },
  {
   "cell_type": "code",
   "execution_count": 23,
   "id": "7f3bbe3e-9e26-41eb-bc6c-36226d188bea",
   "metadata": {},
   "outputs": [
    {
     "name": "stderr",
     "output_type": "stream",
     "text": [
      "C:\\Users\\arsry\\AppData\\Local\\Temp\\ipykernel_7920\\3240558984.py:2: SettingWithCopyWarning: \n",
      "A value is trying to be set on a copy of a slice from a DataFrame.\n",
      "Try using .loc[row_indexer,col_indexer] = value instead\n",
      "\n",
      "See the caveats in the documentation: https://pandas.pydata.org/pandas-docs/stable/user_guide/indexing.html#returning-a-view-versus-a-copy\n",
      "  df.price = df.price.apply(to_num)\n",
      "C:\\Users\\arsry\\AppData\\Local\\Temp\\ipykernel_7920\\3240558984.py:3: SettingWithCopyWarning: \n",
      "A value is trying to be set on a copy of a slice from a DataFrame.\n",
      "Try using .loc[row_indexer,col_indexer] = value instead\n",
      "\n",
      "See the caveats in the documentation: https://pandas.pydata.org/pandas-docs/stable/user_guide/indexing.html#returning-a-view-versus-a-copy\n",
      "  df.rating = df.rating.astype(float)\n"
     ]
    }
   ],
   "source": [
    "# Поменяем тип данных на корректный\n",
    "df.price = df.price.apply(to_num)\n",
    "df.rating = df.rating.astype(float)"
   ]
  },
  {
   "cell_type": "code",
   "execution_count": 25,
   "id": "e39c086c-47b5-407e-9e4f-9548b76cdcf2",
   "metadata": {},
   "outputs": [
    {
     "name": "stdout",
     "output_type": "stream",
     "text": [
      "\n",
      "Пропуски в данных:\n",
      "title      0\n",
      "price      0\n",
      "rating     0\n",
      "reviews    0\n",
      "market     0\n",
      "link       0\n",
      "req        0\n",
      "dtype: int64\n"
     ]
    }
   ],
   "source": [
    "print(\"\\nПропуски в данных:\")\n",
    "print(df.isnull().sum())"
   ]
  },
  {
   "cell_type": "code",
   "execution_count": 27,
   "id": "3cc9609d-6cf2-4019-a85c-7c84f4be4dfe",
   "metadata": {},
   "outputs": [],
   "source": [
    "#пропусков нет"
   ]
  },
  {
   "cell_type": "code",
   "execution_count": 29,
   "id": "e57bbfba-6bae-45b1-90ee-2ab25087ff22",
   "metadata": {},
   "outputs": [
    {
     "name": "stdout",
     "output_type": "stream",
     "text": [
      "\n",
      "Описательные статистики:\n",
      "         title         price      rating        reviews market  \\\n",
      "count      758    758.000000  758.000000     758.000000    758   \n",
      "unique     624           NaN         NaN            NaN      3   \n",
      "top     Куртка           NaN         NaN            NaN   yand   \n",
      "freq        17           NaN         NaN            NaN    323   \n",
      "mean       NaN   1184.948549    4.808971    9027.738786    NaN   \n",
      "std        NaN   1871.926144    0.197136   46043.920148    NaN   \n",
      "min        NaN     78.000000    2.800000       1.000000    NaN   \n",
      "25%        NaN    360.250000    4.800000      56.250000    NaN   \n",
      "50%        NaN    593.000000    4.900000     435.500000    NaN   \n",
      "75%        NaN   1178.000000    4.900000    3111.000000    NaN   \n",
      "max        NaN  33972.000000    5.000000  874986.000000    NaN   \n",
      "\n",
      "                                                     link     req  \n",
      "count                                                 758     758  \n",
      "unique                                                753       5  \n",
      "top     https://www.wildberries.ru/catalog/83211908/de...  Кружка  \n",
      "freq                                                    2     183  \n",
      "mean                                                  NaN     NaN  \n",
      "std                                                   NaN     NaN  \n",
      "min                                                   NaN     NaN  \n",
      "25%                                                   NaN     NaN  \n",
      "50%                                                   NaN     NaN  \n",
      "75%                                                   NaN     NaN  \n",
      "max                                                   NaN     NaN  \n"
     ]
    }
   ],
   "source": [
    "print(\"\\nОписательные статистики:\")\n",
    "print(df.describe(include='all'))"
   ]
  },
  {
   "cell_type": "code",
   "execution_count": 31,
   "id": "2b44356b-2a83-40b0-8198-c8b9f99b2205",
   "metadata": {},
   "outputs": [
    {
     "data": {
      "text/plain": [
       "array(['https://www.wildberries.ru/catalog/19252625/detail.aspx'],\n",
       "      dtype=object)"
      ]
     },
     "execution_count": 31,
     "metadata": {},
     "output_type": "execute_result"
    }
   ],
   "source": [
    "df[df.reviews == 874986][\"link\"].values"
   ]
  },
  {
   "cell_type": "code",
   "execution_count": 33,
   "id": "f95322c7-ed92-4db5-a7a1-92d470121922",
   "metadata": {},
   "outputs": [],
   "source": [
    "#рейтинг везде был в пятибальной шкале, максимум - 5, а минимум у нас 3. Всё курто\n",
    "#Количесиво отзывов смущает, но 800к отзывов у кислородного коктеля есть(позже убрём товары, которые нам не подходят)\n",
    "#Цена в рамках адекватных значений"
   ]
  },
  {
   "cell_type": "code",
   "execution_count": 35,
   "id": "b3613a72-f953-4498-8731-56383f35210d",
   "metadata": {
    "scrolled": true
   },
   "outputs": [
    {
     "data": {
      "text/html": [
       "<div>\n",
       "<style scoped>\n",
       "    .dataframe tbody tr th:only-of-type {\n",
       "        vertical-align: middle;\n",
       "    }\n",
       "\n",
       "    .dataframe tbody tr th {\n",
       "        vertical-align: top;\n",
       "    }\n",
       "\n",
       "    .dataframe thead th {\n",
       "        text-align: right;\n",
       "    }\n",
       "</style>\n",
       "<table border=\"1\" class=\"dataframe\">\n",
       "  <thead>\n",
       "    <tr style=\"text-align: right;\">\n",
       "      <th></th>\n",
       "      <th>title</th>\n",
       "      <th>price</th>\n",
       "      <th>rating</th>\n",
       "      <th>reviews</th>\n",
       "      <th>market</th>\n",
       "      <th>link</th>\n",
       "      <th>req</th>\n",
       "    </tr>\n",
       "  </thead>\n",
       "  <tbody>\n",
       "    <tr>\n",
       "      <th>0</th>\n",
       "      <td>Кружка для чая и кофе Montserrat с крышкой, 38...</td>\n",
       "      <td>603</td>\n",
       "      <td>4.6</td>\n",
       "      <td>393</td>\n",
       "      <td>ozon</td>\n",
       "      <td>https://www.ozon.ru/product/kruzhka-dlya-chaya...</td>\n",
       "      <td>Кружка</td>\n",
       "    </tr>\n",
       "    <tr>\n",
       "      <th>1</th>\n",
       "      <td>Кружка \"Золотой дракон\", объем 350 мл, с крышк...</td>\n",
       "      <td>754</td>\n",
       "      <td>4.6</td>\n",
       "      <td>421</td>\n",
       "      <td>ozon</td>\n",
       "      <td>https://www.ozon.ru/product/kruzhka-zolotoy-dr...</td>\n",
       "      <td>Кружка</td>\n",
       "    </tr>\n",
       "    <tr>\n",
       "      <th>2</th>\n",
       "      <td>Кружка Oxilife, чайная пара, 200 мл перламутровая</td>\n",
       "      <td>558</td>\n",
       "      <td>4.9</td>\n",
       "      <td>23</td>\n",
       "      <td>ozon</td>\n",
       "      <td>https://www.ozon.ru/product/kruzhka-oxilife-ch...</td>\n",
       "      <td>Кружка</td>\n",
       "    </tr>\n",
       "    <tr>\n",
       "      <th>3</th>\n",
       "      <td>Кружка для чая и кофе на 400мл \"Morning\" на 50...</td>\n",
       "      <td>169</td>\n",
       "      <td>4.8</td>\n",
       "      <td>1869</td>\n",
       "      <td>ozon</td>\n",
       "      <td>https://www.ozon.ru/product/kruzhka-dlya-chaya...</td>\n",
       "      <td>Кружка</td>\n",
       "    </tr>\n",
       "    <tr>\n",
       "      <th>4</th>\n",
       "      <td>Кружка с принтом \"Ща раздуплюсь\"</td>\n",
       "      <td>410</td>\n",
       "      <td>5.0</td>\n",
       "      <td>4</td>\n",
       "      <td>ozon</td>\n",
       "      <td>https://www.ozon.ru/product/kruzhka-s-printom-...</td>\n",
       "      <td>Кружка</td>\n",
       "    </tr>\n",
       "    <tr>\n",
       "      <th>...</th>\n",
       "      <td>...</td>\n",
       "      <td>...</td>\n",
       "      <td>...</td>\n",
       "      <td>...</td>\n",
       "      <td>...</td>\n",
       "      <td>...</td>\n",
       "      <td>...</td>\n",
       "    </tr>\n",
       "    <tr>\n",
       "      <th>752</th>\n",
       "      <td>Куртка демисезонная с капюшоном KOBYLA</td>\n",
       "      <td>2293</td>\n",
       "      <td>4.7</td>\n",
       "      <td>1525</td>\n",
       "      <td>wb</td>\n",
       "      <td>https://www.wildberries.ru/catalog/169834668/d...</td>\n",
       "      <td>Куртка</td>\n",
       "    </tr>\n",
       "    <tr>\n",
       "      <th>754</th>\n",
       "      <td>Куртка демисезонная с капюшоном QASO</td>\n",
       "      <td>2328</td>\n",
       "      <td>4.4</td>\n",
       "      <td>919</td>\n",
       "      <td>wb</td>\n",
       "      <td>https://www.wildberries.ru/catalog/179244724/d...</td>\n",
       "      <td>Куртка</td>\n",
       "    </tr>\n",
       "    <tr>\n",
       "      <th>755</th>\n",
       "      <td>Кожаная куртка с капюшоном зимняя пуховик ZARINA</td>\n",
       "      <td>1986</td>\n",
       "      <td>4.7</td>\n",
       "      <td>1538</td>\n",
       "      <td>wb</td>\n",
       "      <td>https://www.wildberries.ru/catalog/180093549/d...</td>\n",
       "      <td>Куртка</td>\n",
       "    </tr>\n",
       "    <tr>\n",
       "      <th>756</th>\n",
       "      <td>Куртка тедди двусторонняя демисезонная чебураш...</td>\n",
       "      <td>3266</td>\n",
       "      <td>4.2</td>\n",
       "      <td>739</td>\n",
       "      <td>wb</td>\n",
       "      <td>https://www.wildberries.ru/catalog/172131459/d...</td>\n",
       "      <td>Куртка</td>\n",
       "    </tr>\n",
       "    <tr>\n",
       "      <th>757</th>\n",
       "      <td>Куртка стеганая оверсайз удлиненная с капюшоно...</td>\n",
       "      <td>3056</td>\n",
       "      <td>4.6</td>\n",
       "      <td>2201</td>\n",
       "      <td>wb</td>\n",
       "      <td>https://www.wildberries.ru/catalog/180093522/d...</td>\n",
       "      <td>Куртка</td>\n",
       "    </tr>\n",
       "  </tbody>\n",
       "</table>\n",
       "<p>613 rows × 7 columns</p>\n",
       "</div>"
      ],
      "text/plain": [
       "                                                 title  price  rating  \\\n",
       "0    Кружка для чая и кофе Montserrat с крышкой, 38...    603     4.6   \n",
       "1    Кружка \"Золотой дракон\", объем 350 мл, с крышк...    754     4.6   \n",
       "2    Кружка Oxilife, чайная пара, 200 мл перламутровая    558     4.9   \n",
       "3    Кружка для чая и кофе на 400мл \"Morning\" на 50...    169     4.8   \n",
       "4                     Кружка с принтом \"Ща раздуплюсь\"    410     5.0   \n",
       "..                                                 ...    ...     ...   \n",
       "752             Куртка демисезонная с капюшоном KOBYLA   2293     4.7   \n",
       "754               Куртка демисезонная с капюшоном QASO   2328     4.4   \n",
       "755   Кожаная куртка с капюшоном зимняя пуховик ZARINA   1986     4.7   \n",
       "756  Куртка тедди двусторонняя демисезонная чебураш...   3266     4.2   \n",
       "757  Куртка стеганая оверсайз удлиненная с капюшоно...   3056     4.6   \n",
       "\n",
       "     reviews market                                               link     req  \n",
       "0        393   ozon  https://www.ozon.ru/product/kruzhka-dlya-chaya...  Кружка  \n",
       "1        421   ozon  https://www.ozon.ru/product/kruzhka-zolotoy-dr...  Кружка  \n",
       "2         23   ozon  https://www.ozon.ru/product/kruzhka-oxilife-ch...  Кружка  \n",
       "3       1869   ozon  https://www.ozon.ru/product/kruzhka-dlya-chaya...  Кружка  \n",
       "4          4   ozon  https://www.ozon.ru/product/kruzhka-s-printom-...  Кружка  \n",
       "..       ...    ...                                                ...     ...  \n",
       "752     1525     wb  https://www.wildberries.ru/catalog/169834668/d...  Куртка  \n",
       "754      919     wb  https://www.wildberries.ru/catalog/179244724/d...  Куртка  \n",
       "755     1538     wb  https://www.wildberries.ru/catalog/180093549/d...  Куртка  \n",
       "756      739     wb  https://www.wildberries.ru/catalog/172131459/d...  Куртка  \n",
       "757     2201     wb  https://www.wildberries.ru/catalog/180093522/d...  Куртка  \n",
       "\n",
       "[613 rows x 7 columns]"
      ]
     },
     "execution_count": 35,
     "metadata": {},
     "output_type": "execute_result"
    }
   ],
   "source": [
    "# Удалим данные с пропусками(на всякий случай) и дубликаты\n",
    "df = df.dropna()\n",
    "df = df.drop_duplicates()\n",
    "\n",
    "#Очистим от товаров не содержащих интересующее нас слово\n",
    "df = df[df.apply(lambda x: x['req'].lower() in x['title'].lower(), axis=1)]\n",
    "\n",
    "#Очистим данные от выбросов\n",
    "\n",
    "def clearing(df, reqvest, col_name = \"price\"):\n",
    "    filtred_df = df[df.req == reqvest]\n",
    "    q1 = filtred_df[col_name].quantile(0.25)\n",
    "    q3 = filtred_df[col_name].quantile(0.75)\n",
    "    iqr = q3 - q1\n",
    "    df = df[((df[col_name] < q3 + 1.5 * iqr) & (df[col_name] > q1 - 1.5 * iqr)) | (df.req != reqvest)]\n",
    "    return df\n",
    "\n",
    "\n",
    "list_request = [\"Кружка\", \"Термопаста mx-4\", \"Mars\", \"Носки\", \"Куртка\"]\n",
    "for i in list_request:\n",
    "    df = clearing(df, i)\n",
    "df"
   ]
  },
  {
   "cell_type": "code",
   "execution_count": 37,
   "id": "2a53175f-b03f-4b06-8a2f-4a863b5c25ad",
   "metadata": {},
   "outputs": [
    {
     "name": "stdout",
     "output_type": "stream",
     "text": [
      "\n",
      "Анализ столбца price:\n",
      "Медиана: 575.0\n",
      "Среднее: 972.721044045677\n",
      "Стандартное отклонение: 1074.9911652612582\n",
      "Минимум: 78\n",
      "Максимум: 5644\n",
      "Количество нулевых значений: 0\n",
      "\n",
      "Анализ столбца rating:\n",
      "Медиана: 4.9\n",
      "Среднее: 4.816313213703099\n",
      "Стандартное отклонение: 0.18139288536505646\n",
      "Минимум: 3.0\n",
      "Максимум: 5.0\n",
      "Количество нулевых значений: 0\n",
      "\n",
      "Анализ столбца reviews:\n",
      "Медиана: 421.0\n",
      "Среднее: 5091.9461663947795\n",
      "Стандартное отклонение: 18490.94314356628\n",
      "Минимум: 1\n",
      "Максимум: 218556\n",
      "Количество нулевых значений: 0\n"
     ]
    }
   ],
   "source": [
    "#более наглядно и с очищенными данными\n",
    "# Анализ числовых переменных\n",
    "numeric_cols = ['price', 'rating', 'reviews']\n",
    "for col in numeric_cols:\n",
    "    print(f\"\\nАнализ столбца {col}:\")\n",
    "    print(f\"Медиана: {df[col].median()}\")\n",
    "    print(f\"Среднее: {df[col].mean()}\")\n",
    "    print(f\"Стандартное отклонение: {df[col].std()}\")\n",
    "    print(f\"Минимум: {df[col].min()}\")\n",
    "    print(f\"Максимум: {df[col].max()}\")\n",
    "    print(f\"Количество нулевых значений: {(df[col] == 0).sum()}\")"
   ]
  },
  {
   "cell_type": "code",
   "execution_count": 39,
   "id": "15ac9140-c47a-4c7c-b7f7-d2cbe391b278",
   "metadata": {},
   "outputs": [],
   "source": [
    "#Пока все значения в пределах нормы"
   ]
  },
  {
   "cell_type": "code",
   "execution_count": 41,
   "id": "e4349d83-73e8-46b0-bbfe-08ce6d92f2bb",
   "metadata": {},
   "outputs": [],
   "source": [
    "import matplotlib.pyplot as plt\n",
    "import seaborn as sns"
   ]
  },
  {
   "cell_type": "code",
   "execution_count": 42,
   "id": "c9cbd99d-7b6c-4f0b-b8d0-9c14302b9d76",
   "metadata": {},
   "outputs": [
    {
     "data": {
      "text/plain": [
       "Text(0, 0.5, 'Количество')"
      ]
     },
     "execution_count": 42,
     "metadata": {},
     "output_type": "execute_result"
    },
    {
     "data": {
      "image/png": "[encoded data removed]",
      "text/plain": [
       "<Figure size 640x480 with 1 Axes>"
      ]
     },
     "metadata": {},
     "output_type": "display_data"
    }
   ],
   "source": [
    "plt.subplot(2, 2, 2)\n",
    "sns.histplot(df['rating'], bins=20, kde=True)\n",
    "plt.title('Распределение рейтингов')\n",
    "plt.xlabel('Рейтинг')\n",
    "plt.ylabel('Количество')"
   ]
  },
  {
   "cell_type": "code",
   "execution_count": 43,
   "id": "3b50aa47-f97c-4aee-b319-f99eee725b7c",
   "metadata": {},
   "outputs": [],
   "source": [
    "#Данные смещены влево, так как на первых располагаются поулярные товары, а раз они популярны, то нравятся людям"
   ]
  },
  {
   "cell_type": "code",
   "execution_count": 44,
   "id": "0b6c9e7c-aff3-4651-9ebd-2df941fb6ff6",
   "metadata": {
    "scrolled": true
   },
   "outputs": [
    {
     "data": {
      "text/html": [
       "<div>\n",
       "<style scoped>\n",
       "    .dataframe tbody tr th:only-of-type {\n",
       "        vertical-align: middle;\n",
       "    }\n",
       "\n",
       "    .dataframe tbody tr th {\n",
       "        vertical-align: top;\n",
       "    }\n",
       "\n",
       "    .dataframe thead th {\n",
       "        text-align: right;\n",
       "    }\n",
       "</style>\n",
       "<table border=\"1\" class=\"dataframe\">\n",
       "  <thead>\n",
       "    <tr style=\"text-align: right;\">\n",
       "      <th></th>\n",
       "      <th>title</th>\n",
       "      <th>price</th>\n",
       "      <th>rating</th>\n",
       "      <th>reviews</th>\n",
       "      <th>market</th>\n",
       "      <th>link</th>\n",
       "      <th>req</th>\n",
       "    </tr>\n",
       "  </thead>\n",
       "  <tbody>\n",
       "    <tr>\n",
       "      <th>0</th>\n",
       "      <td>Кружка для чая и кофе Montserrat с крышкой, 38...</td>\n",
       "      <td>603</td>\n",
       "      <td>4.6</td>\n",
       "      <td>393</td>\n",
       "      <td>ozon</td>\n",
       "      <td>https://www.ozon.ru/product/kruzhka-dlya-chaya...</td>\n",
       "      <td>Кружка</td>\n",
       "    </tr>\n",
       "    <tr>\n",
       "      <th>1</th>\n",
       "      <td>Кружка \"Золотой дракон\", объем 350 мл, с крышк...</td>\n",
       "      <td>754</td>\n",
       "      <td>4.6</td>\n",
       "      <td>421</td>\n",
       "      <td>ozon</td>\n",
       "      <td>https://www.ozon.ru/product/kruzhka-zolotoy-dr...</td>\n",
       "      <td>Кружка</td>\n",
       "    </tr>\n",
       "    <tr>\n",
       "      <th>2</th>\n",
       "      <td>Кружка Oxilife, чайная пара, 200 мл перламутровая</td>\n",
       "      <td>558</td>\n",
       "      <td>4.9</td>\n",
       "      <td>23</td>\n",
       "      <td>ozon</td>\n",
       "      <td>https://www.ozon.ru/product/kruzhka-oxilife-ch...</td>\n",
       "      <td>Кружка</td>\n",
       "    </tr>\n",
       "    <tr>\n",
       "      <th>3</th>\n",
       "      <td>Кружка для чая и кофе на 400мл \"Morning\" на 50...</td>\n",
       "      <td>169</td>\n",
       "      <td>4.8</td>\n",
       "      <td>1869</td>\n",
       "      <td>ozon</td>\n",
       "      <td>https://www.ozon.ru/product/kruzhka-dlya-chaya...</td>\n",
       "      <td>Кружка</td>\n",
       "    </tr>\n",
       "    <tr>\n",
       "      <th>4</th>\n",
       "      <td>Кружка с принтом \"Ща раздуплюсь\"</td>\n",
       "      <td>410</td>\n",
       "      <td>5.0</td>\n",
       "      <td>4</td>\n",
       "      <td>ozon</td>\n",
       "      <td>https://www.ozon.ru/product/kruzhka-s-printom-...</td>\n",
       "      <td>Кружка</td>\n",
       "    </tr>\n",
       "    <tr>\n",
       "      <th>...</th>\n",
       "      <td>...</td>\n",
       "      <td>...</td>\n",
       "      <td>...</td>\n",
       "      <td>...</td>\n",
       "      <td>...</td>\n",
       "      <td>...</td>\n",
       "      <td>...</td>\n",
       "    </tr>\n",
       "    <tr>\n",
       "      <th>752</th>\n",
       "      <td>Куртка демисезонная с капюшоном KOBYLA</td>\n",
       "      <td>2293</td>\n",
       "      <td>4.7</td>\n",
       "      <td>1525</td>\n",
       "      <td>wb</td>\n",
       "      <td>https://www.wildberries.ru/catalog/169834668/d...</td>\n",
       "      <td>Куртка</td>\n",
       "    </tr>\n",
       "    <tr>\n",
       "      <th>754</th>\n",
       "      <td>Куртка демисезонная с капюшоном QASO</td>\n",
       "      <td>2328</td>\n",
       "      <td>4.4</td>\n",
       "      <td>919</td>\n",
       "      <td>wb</td>\n",
       "      <td>https://www.wildberries.ru/catalog/179244724/d...</td>\n",
       "      <td>Куртка</td>\n",
       "    </tr>\n",
       "    <tr>\n",
       "      <th>755</th>\n",
       "      <td>Кожаная куртка с капюшоном зимняя пуховик ZARINA</td>\n",
       "      <td>1986</td>\n",
       "      <td>4.7</td>\n",
       "      <td>1538</td>\n",
       "      <td>wb</td>\n",
       "      <td>https://www.wildberries.ru/catalog/180093549/d...</td>\n",
       "      <td>Куртка</td>\n",
       "    </tr>\n",
       "    <tr>\n",
       "      <th>756</th>\n",
       "      <td>Куртка тедди двусторонняя демисезонная чебураш...</td>\n",
       "      <td>3266</td>\n",
       "      <td>4.2</td>\n",
       "      <td>739</td>\n",
       "      <td>wb</td>\n",
       "      <td>https://www.wildberries.ru/catalog/172131459/d...</td>\n",
       "      <td>Куртка</td>\n",
       "    </tr>\n",
       "    <tr>\n",
       "      <th>757</th>\n",
       "      <td>Куртка стеганая оверсайз удлиненная с капюшоно...</td>\n",
       "      <td>3056</td>\n",
       "      <td>4.6</td>\n",
       "      <td>2201</td>\n",
       "      <td>wb</td>\n",
       "      <td>https://www.wildberries.ru/catalog/180093522/d...</td>\n",
       "      <td>Куртка</td>\n",
       "    </tr>\n",
       "  </tbody>\n",
       "</table>\n",
       "<p>613 rows × 7 columns</p>\n",
       "</div>"
      ],
      "text/plain": [
       "                                                 title  price  rating  \\\n",
       "0    Кружка для чая и кофе Montserrat с крышкой, 38...    603     4.6   \n",
       "1    Кружка \"Золотой дракон\", объем 350 мл, с крышк...    754     4.6   \n",
       "2    Кружка Oxilife, чайная пара, 200 мл перламутровая    558     4.9   \n",
       "3    Кружка для чая и кофе на 400мл \"Morning\" на 50...    169     4.8   \n",
       "4                     Кружка с принтом \"Ща раздуплюсь\"    410     5.0   \n",
       "..                                                 ...    ...     ...   \n",
       "752             Куртка демисезонная с капюшоном KOBYLA   2293     4.7   \n",
       "754               Куртка демисезонная с капюшоном QASO   2328     4.4   \n",
       "755   Кожаная куртка с капюшоном зимняя пуховик ZARINA   1986     4.7   \n",
       "756  Куртка тедди двусторонняя демисезонная чебураш...   3266     4.2   \n",
       "757  Куртка стеганая оверсайз удлиненная с капюшоно...   3056     4.6   \n",
       "\n",
       "     reviews market                                               link     req  \n",
       "0        393   ozon  https://www.ozon.ru/product/kruzhka-dlya-chaya...  Кружка  \n",
       "1        421   ozon  https://www.ozon.ru/product/kruzhka-zolotoy-dr...  Кружка  \n",
       "2         23   ozon  https://www.ozon.ru/product/kruzhka-oxilife-ch...  Кружка  \n",
       "3       1869   ozon  https://www.ozon.ru/product/kruzhka-dlya-chaya...  Кружка  \n",
       "4          4   ozon  https://www.ozon.ru/product/kruzhka-s-printom-...  Кружка  \n",
       "..       ...    ...                                                ...     ...  \n",
       "752     1525     wb  https://www.wildberries.ru/catalog/169834668/d...  Куртка  \n",
       "754      919     wb  https://www.wildberries.ru/catalog/179244724/d...  Куртка  \n",
       "755     1538     wb  https://www.wildberries.ru/catalog/180093549/d...  Куртка  \n",
       "756      739     wb  https://www.wildberries.ru/catalog/172131459/d...  Куртка  \n",
       "757     2201     wb  https://www.wildberries.ru/catalog/180093522/d...  Куртка  \n",
       "\n",
       "[613 rows x 7 columns]"
      ]
     },
     "execution_count": 44,
     "metadata": {},
     "output_type": "execute_result"
    }
   ],
   "source": [
    "df"
   ]
  },
  {
   "cell_type": "code",
   "execution_count": 45,
   "id": "c6bb1063-81c2-444e-a847-5591cf2db224",
   "metadata": {},
   "outputs": [],
   "source": [
    "#сохраним очищенные данные\n",
    "#df.to_csv(wd + wd_data +'dataset_marketplaces_clean.csv')"
   ]
  },
  {
   "cell_type": "code",
   "execution_count": 17,
   "id": "78c3283e-883e-49eb-aa1b-70cda05af854",
   "metadata": {},
   "outputs": [],
   "source": [
    "df = pd.read_csv(wd + wd_data +'dataset_marketplaces_clean.csv').drop(\"Unnamed: 0\", axis = 1)"
   ]
  },
  {
   "cell_type": "code",
   "execution_count": 19,
   "id": "626dbd17-a89e-4a8b-bdb3-b14cd1d36b9e",
   "metadata": {},
   "outputs": [],
   "source": [
    "# Наш скрипт для дэшборда\n",
    "from app_dashbord import app_dash"
   ]
  },
  {
   "cell_type": "code",
   "execution_count": 20,
   "id": "32cdc4fb-902a-40b1-8e34-7b686db5d197",
   "metadata": {},
   "outputs": [
    {
     "data": {
      "text/html": [
       "\n",
       "        <iframe\n",
       "            width=\"100%\"\n",
       "            height=\"650\"\n",
       "            src=\"http://127.0.0.1:8850/\"\n",
       "            frameborder=\"0\"\n",
       "            allowfullscreen\n",
       "            \n",
       "        ></iframe>\n",
       "        "
      ],
      "text/plain": [
       "<IPython.lib.display.IFrame at 0x264f7c15340>"
      ]
     },
     "metadata": {},
     "output_type": "display_data"
    }
   ],
   "source": [
    "if __name__ == '__main__':\n",
    "    app = app_dash(df)\n",
    "    app.app.run(debug=True, port = 8850)"
   ]
  },
  {
   "cell_type": "code",
   "execution_count": 23,
   "id": "1b9fb6e6-2681-4fb2-b1d5-9ea66aad8bb5",
   "metadata": {},
   "outputs": [],
   "source": [
    "# лучше открыть в браузере\n",
    "driver = create_web_driver_stealth()\n",
    "driver.get(\"http://localhost:8850/\")"
   ]
  },
  {
   "cell_type": "code",
   "execution_count": null,
   "id": "f9d601e2-d2cd-4c73-90c2-b438f8c8db69",
   "metadata": {},
   "outputs": [],
   "source": []
  },
  {
   "cell_type": "code",
   "execution_count": null,
   "id": "e01e4b77-8582-4e21-9e16-ad3d25f886dd",
   "metadata": {},
   "outputs": [],
   "source": []
  }
 ],
 "metadata": {
  "kernelspec": {
   "display_name": "Python [conda env:base] *",
   "language": "python",
   "name": "conda-base-py"
  },
  "language_info": {
   "codemirror_mode": {
    "name": "ipython",
    "version": 3
   },
   "file_extension": ".py",
   "mimetype": "text/x-python",
   "name": "python",
   "nbconvert_exporter": "python",
   "pygments_lexer": "ipython3",
   "version": "3.12.7"
  }
 },
 "nbformat": 4,
 "nbformat_minor": 5
}
